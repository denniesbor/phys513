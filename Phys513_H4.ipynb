{
  "nbformat": 4,
  "nbformat_minor": 0,
  "metadata": {
    "colab": {
      "provenance": [],
      "authorship_tag": "ABX9TyMHPNfElQ8+5udqK1u7GLwe",
      "include_colab_link": true
    },
    "kernelspec": {
      "name": "python3",
      "display_name": "Python 3"
    },
    "language_info": {
      "name": "python"
    }
  },
  "cells": [
    {
      "cell_type": "markdown",
      "metadata": {
        "id": "view-in-github",
        "colab_type": "text"
      },
      "source": [
        "<a href=\"https://colab.research.google.com/github/denniesbor/phys513/blob/main/Phys513_H4.ipynb\" target=\"_parent\"><img src=\"https://colab.research.google.com/assets/colab-badge.svg\" alt=\"Open In Colab\"/></a>"
      ]
    },
    {
      "cell_type": "markdown",
      "source": [
        "# Phys 513\n",
        "## Dennies Bor"
      ],
      "metadata": {
        "id": "WSSBpVpkKCI4"
      }
    },
    {
      "cell_type": "code",
      "source": [
        "import numpy as np\n",
        "import matplotlib.pyplot as plt"
      ],
      "metadata": {
        "id": "Z6HQ74e0k0DH"
      },
      "execution_count": 1,
      "outputs": []
    },
    {
      "cell_type": "markdown",
      "source": [
        "\n",
        "Laplace's equation in 1-D cylindrical coordinates:\n",
        "$$\\frac{1}{r} \\frac{d}{dr}\\left(r \\frac{du}{dr}\\right) = 0$$\n",
        "where $u$ is the function we're solving for, and $r$ is the radial coordinate.\n",
        "Expanding this equation:\n",
        "$$\\frac{1}{r} \\left(\\frac{du}{dr} + r \\frac{d^2u}{dr^2}\\right) = 0$$\n",
        "Multiply both sides by $r$:\n",
        "$$\\frac{du}{dr} + r \\frac{d^2u}{dr^2} = 0$$\n",
        "Discretize the domain using a uniform grid with $N$ points, where $r_i = i\\Delta r$ for $i = 0, 1, ..., N-1$.\n",
        "Approximate the derivatives using central differences:\n",
        "$$\\frac{du}{dr} \\approx \\frac{u_{i+1} - u_{i-1}}{2\\Delta r}$$\n",
        "$$\\frac{d^2u}{dr^2} \\approx \\frac{u_{i+1} - 2u_i + u_{i-1}}{(\\Delta r)^2}$$\n",
        "Substitute these into our equation:\n",
        "$$\\frac{u_{i+1} - u_{i-1}}{2\\Delta r} + r_i \\frac{u_{i+1} - 2u_i + u_{i-1}}{(\\Delta r)^2} = 0$$\n",
        "Multiply by $(\\Delta r)^2$:\n",
        "$$\\frac{\\Delta r}{2} (u_{i+1} - u_{i-1}) + r_i (u_{i+1} - 2u_i + u_{i-1}) = 0$$\n",
        "Rearrange terms:\n",
        "$$(r_i + \\frac{\\Delta r}{2}) u_{i+1} + (r_i - \\frac{\\Delta r}{2}) u_{i-1} - 2r_i u_i = 0$$\n",
        "This gives us our numerical scheme. For each interior point $i$ ($i = 1, ..., N-2$), we have:\n",
        "$$u_i = \\frac{(r_i + \\frac{\\Delta r}{2}) u_{i+1} + (r_i - \\frac{\\Delta r}{2}) u_{i-1}}{2r_i}$$``\n"
      ],
      "metadata": {
        "id": "4x6VU63ok0dq"
      }
    },
    {
      "cell_type": "code",
      "execution_count": 9,
      "metadata": {
        "colab": {
          "base_uri": "https://localhost:8080/"
        },
        "id": "v5MBKEB3kylh",
        "outputId": "977452b5-a5a2-4c82-dac7-c7c9df131e94"
      },
      "outputs": [
        {
          "output_type": "stream",
          "name": "stdout",
          "text": [
            "Results:\n",
            "r = 1.0, Φ = 0.000000\n",
            "r = 1.5, Φ = 0.583333\n",
            "r = 2.0, Φ = 1.000000\n",
            "\n",
            "The potential at r = 1.5 is Φ = 0.583333\n"
          ]
        }
      ],
      "source": [
        "\n",
        "def solve_laplace_1d_cylindrical_specific():\n",
        "    # grid points\n",
        "    r = np.array([1.0, 1.5, 2.0])\n",
        "    dr = (r[-1] - r[0]) / (len(r) - 1)\n",
        "\n",
        "    # boundary conditions\n",
        "    Φ = np.zeros(3)\n",
        "    Φ[0] = 0  # Φ(r=1) = 0\n",
        "    Φ[2] = 1  # Φ(r=2) = 1\n",
        "\n",
        "    # We only need to solve for Φ[1] (r=1.5)\n",
        "\n",
        "    r_i = 1.5\n",
        "    Φ[1] = ((r_i + dr/2) * Φ[2] + (r_i - dr/2) * Φ[0]) / (2 * r_i)\n",
        "\n",
        "    return r, Φ\n",
        "\n",
        "# Solve the equation\n",
        "r, Φ = solve_laplace_1d_cylindrical_specific()\n",
        "\n",
        "# Print the results\n",
        "print(\"Results:\")\n",
        "for i in range(3):\n",
        "    print(f\"r = {r[i]:.1f}, Φ = {Φ[i]:.6f}\")\n",
        "\n",
        "print(f\"\\nThe potential at r = 1.5 is Φ = {Φ[1]:.6f}\")"
      ]
    },
    {
      "cell_type": "code",
      "source": [
        "def solve_laplace_1d_cylindrical_specific():\n",
        "    # Define the grid points\n",
        "    r = np.array([1.0, 4/3, 5/3, 2.0])\n",
        "    dr = (r[-1] - r[0]) / (len(r) - 1)\n",
        "\n",
        "    # Initialize potential Φ with boundary conditions\n",
        "    Φ = np.zeros(4)\n",
        "    Φ[0] = 0  # Φ(r=1) = 0\n",
        "    Φ[-1] = 1  # Φ(r=2) = 1\n",
        "\n",
        "    iterations = 1000\n",
        "    threshold = 1e-6\n",
        "    for _ in range(iterations):\n",
        "        phi_old = Φ.copy()\n",
        "        for i in range(1, 3):\n",
        "            Φ[i] = ((r[i] + dr/2) * Φ[i+1] + (r[i] - dr/2) * Φ[i-1]) / (2 * r[i])\n",
        "\n",
        "        if np.max(np.abs(Φ - phi_old)) < threshold:\n",
        "            break\n",
        "\n",
        "    # Calculate Φ at r = 1.5 using the same formula\n",
        "    r_1_5 = 1.5\n",
        "    Φ_1_5 = ((r_1_5 + dr/2) * Φ[2] + (r_1_5 - dr/2) * Φ[1]) / (2 * r_1_5)\n",
        "\n",
        "    return r, Φ, Φ_1_5\n",
        "\n",
        "# Solve the equation\n",
        "r, Φ, Φ_1_5 = solve_laplace_1d_cylindrical_specific()\n",
        "\n",
        "# Print the results\n",
        "print(\"Results:\")\n",
        "for i in range(len(r)):\n",
        "    print(f\"r = {r[i]:.6f}, Φ = {Φ[i]:.6f}\")\n",
        "\n",
        "print(f\"\\nThe potential at r = 1.5 is Φ = {Φ_1_5:.6f}\")"
      ],
      "metadata": {
        "colab": {
          "base_uri": "https://localhost:8080/"
        },
        "id": "IPEHxqVZp0JU",
        "outputId": "17ffcdc2-41fe-4c81-c513-d5e09604dad1"
      },
      "execution_count": 8,
      "outputs": [
        {
          "output_type": "stream",
          "name": "stdout",
          "text": [
            "Results:\n",
            "r = 1.000000, Φ = 0.000000\n",
            "r = 1.333333, Φ = 0.414226\n",
            "r = 1.666667, Φ = 0.736402\n",
            "r = 2.000000, Φ = 1.000000\n",
            "\n",
            "The potential at r = 1.5 is Φ = 0.593212\n"
          ]
        }
      ]
    },
    {
      "cell_type": "markdown",
      "source": [
        "#Question 4.2\n",
        "For spherical and symmetric problem,  the Laplace equation $∇²Φ = 0 $ becomes:\n",
        "\n",
        "$$ \\frac{1}{r^2}\\frac{d}{dr}\\left(r^2 \\frac{\\Phi}{dr}\\right) = 0$$\n",
        "\n",
        "Integrating this twice gives:\n",
        "$$Φ(r) = -A/r + B$$\n",
        "where A and B are constants.\n",
        "\n",
        "In the region $a \\leq r \\leq r_o$, the potential $\\Phi_1(r)$ satisfies the Laplace equation $\\nabla^2 \\Phi_1 = 0$.\n",
        "\n",
        "Using the boundary condition $\\Phi(a) = 0$:\n",
        "$$-\\frac{A}{a} + B = 0 \\quad \\Rightarrow \\quad B = \\frac{A}{a}.$$\n",
        "Thus, the potential in the inner region becomes:\n",
        "$$\\Phi_1(r) = A \\left( \\frac{1}{a} - \\frac{1}{r} \\right).$$\n",
        "\n",
        "Potential in the Region Between $r_o$ and $b$ (Outer Region)\n",
        "In the region $r_o \\leq r \\leq b$, the potential $\\Phi_2(r)$ also satisfies $\\nabla^2 \\Phi_2 = 0$, and the general solution is:\n",
        "$$\\Phi_2(r) = -\\frac{C}{r} + D.$$\n",
        "Using the boundary condition $\\Phi(b) = 0$:\n",
        "$$-\\frac{C}{b} + D = 0 \\quad \\Rightarrow \\quad D = \\frac{C}{b}.$$\n",
        "Thus, the potential in the outer region becomes:\n",
        "$$\\Phi_2(r) = C \\left( \\frac{1}{b} - \\frac{1}{r} \\right).$$\n",
        "\n",
        "Continuity of Potential at $r = r_o$\n",
        "The potential must be continuous across the surface at $r_o$, so we have:\n",
        "$$\\Phi_1(r_o) = \\Phi_2(r_o).$$\n",
        "Substitute the expressions for $\\Phi_1$ and $\\Phi_2$ at $r = r_o$:\n",
        "$$A \\left( \\frac{1}{a} - \\frac{1}{r_o} \\right) = C \\left( \\frac{1}{b} - \\frac{1}{r_o} \\right).$$\n",
        "From this, we can solve for $C$ in terms of $A$:\n",
        "$$C = A \\frac{\\left( \\frac{1}{a} - \\frac{1}{r_o} \\right)}{\\left( \\frac{1}{b} - \\frac{1}{r_o} \\right)}.$$\n",
        "\n",
        "Discontinuity of Electric Field at $r = r_o$\n",
        "The electric field $E = -\\frac{d\\Phi}{dr}$ must satisfy the discontinuity condition at $r = r_o$ due to the surface charge density $\\sigma_0$:\n",
        "$$E_2(r_o^+) - E_1(r_o^-) = \\frac{\\sigma_0}{\\epsilon_0}.$$\n",
        "Calculating the electric field in both regions:\n",
        "$$E_1(r) = -\\frac{d}{dr} \\left( A \\left( \\frac{1}{a} - \\frac{1}{r} \\right) \\right) = \\frac{A}{r^2},$$\n",
        "$$E_2(r) = -\\frac{d}{dr} \\left( C \\left( \\frac{1}{b} - \\frac{1}{r} \\right) \\right) = \\frac{C}{r^2}.$$\n",
        "At $r = r_o$, the condition becomes:\n",
        "$$\\frac{C}{r_o^2} - \\frac{A}{r_o^2} = \\frac{\\sigma_0}{\\epsilon_0}.$$\n",
        "Simplifying this:\n",
        "$$C - A = \\frac{\\sigma_0 r_o^2}{\\epsilon_0}.$$\n",
        "Substitute $C = A \\frac{\\left( \\frac{1}{a} - \\frac{1}{r_o} \\right)}{\\left( \\frac{1}{b} - \\frac{1}{r_o} \\right)}$ into the equation:\n",
        "$$A \\left( \\frac{\\left( \\frac{1}{a} - \\frac{1}{r_o} \\right)}{\\left( \\frac{1}{b} - \\frac{1}{r_o} \\right)} - 1 \\right) = \\frac{\\sigma_0 r_o^2}{\\epsilon_0}.$$\n",
        "Factoring out $A$:\n",
        "$$A \\left( \\frac{\\left( \\frac{1}{a} - \\frac{1}{b} \\right)}{\\left( \\frac{1}{b} - \\frac{1}{r_o} \\right)} \\right) = \\frac{\\sigma_0 r_o^2}{\\epsilon_0}.$$\n",
        "Solve for $A$:\n",
        "$$A = \\frac{\\sigma_0 r_o a (r_o - b)}{\\epsilon_0 (b-a)}.$$\n",
        "\n",
        "Potential $\\Phi(r)$\n",
        "\n",
        "Now that we have $A$ and $C$, the potential in both regions is:\n",
        "For $a \\leq r \\leq r_o$:\n",
        "$$\\Phi_1(r) = \\frac{\\sigma_0 r_o a (r_o - b)}{\\epsilon_0 (b-a)} \\left( \\frac{1}{a} - \\frac{1}{r} \\right)$$\n",
        "For $r_o \\leq r \\leq b$:\n",
        "$$\\Phi_2(r) = \\frac{\\sigma_0 r_o a (r_o - b)}{\\epsilon_0 (b-a)} \\cdot \\frac{\\left( \\frac{1}{a} - \\frac{1}{r_o} \\right)}{\\left( \\frac{1}{b} - \\frac{1}{r_o} \\right)} \\left( \\frac{1}{b} - \\frac{1}{r} \\right)$$\n",
        "\n",
        "Charge on the Conductors\n",
        "\n",
        "The total charge on the inner conductor (at $r = a$) can be found using Gauss's law:\n",
        "$$Q_{\\text{inner}} = 4 \\pi a^2 \\epsilon_0 E_1(r=a) = 4 \\pi a^2 \\epsilon_0 \\frac{A}{a^2} = 4 \\pi \\epsilon_0 A = \\frac{4 \\pi \\sigma_0 r_o a (r_o - b)}{b-a}.$$\n",
        "The total charge on the outer conductor (at $r = b$) is the negative of the charge on the inner conductor to maintain zero total charge:\n",
        "$$Q_{\\text{outer}} = -Q_{\\text{inner}} = -\\frac{4 \\pi \\sigma_0 r_o a (r_o - b)}{b-a}.$$"
      ],
      "metadata": {
        "id": "8abhNZKtyYXt"
      }
    },
    {
      "cell_type": "markdown",
      "source": [
        "# Question 4.3\n",
        "\n",
        "The electric field $ E^+(y) $ is given by:\n",
        "\n",
        "- **Outside the slab:**\n",
        "$$\n",
        "  E = \\frac{\\rho_0 t}{2\\varepsilon_0}\n",
        "$$\n",
        "\n",
        "- **Inside the slab:**\n",
        "$$\n",
        "  E = \\frac{\\rho_0 y}{\\varepsilon_0}\n",
        "$$\n",
        "\n",
        "Thus, for $ E^+(y) $ versus $ y $, we have:\n",
        "\n",
        "$$\n",
        "E^+(y) =\n",
        "\\begin{cases}\n",
        "-\\frac{\\rho_0 t}{2\\varepsilon_0}, & y < 0 \\\\\n",
        "\\frac{\\rho_0 y}{\\varepsilon_0}, & 0 < y < t \\\\\n",
        "\\frac{\\rho_0 t}{2\\varepsilon_0}, & y > t\n",
        "\\end{cases}\n",
        "$$\n",
        "\n",
        "## 2. Electric Field $ E^-(y) $ for Negative Charge Density Shifted by $ -\\delta $\n",
        "\n",
        "For a slab with charge density $ -\\rho_0 $, shifted by $ -\\delta $, the electric field $ E^-(y) $ is given by:\n",
        "\n",
        "$$\n",
        "E^-(y) =\n",
        "\\begin{cases}\n",
        "\\frac{\\rho_0 t}{2\\varepsilon_0}, & y < -\\delta \\\\\n",
        "-\\frac{\\rho_0 (y + \\delta)}{\\varepsilon_0}, & -\\delta < y < t - \\delta \\\\\n",
        "-\\frac{\\rho_0 t}{2\\varepsilon_0}, & y > t - \\delta\n",
        "\\end{cases}\n",
        "$$\n",
        "\n",
        "## 3. Combined Electric Field $ E^+(y) + E^-(y) $\n",
        "\n",
        "Now, combining $ E^+(y) $ and $ E^-(y) $, we get:\n",
        "\n",
        "$$\n",
        "E^+(y) + E^-(y) =\n",
        "\\begin{cases}\n",
        "0, & y < -\\delta \\\\\n",
        "\\frac{\\rho_0 t}{2\\varepsilon_0} + \\frac{\\rho_0 (y + \\delta)}{\\varepsilon_0}, & -\\delta < y < 0 \\\\\n",
        "\\frac{\\rho_0 (2y + \\delta)}{\\varepsilon_0}, & 0 < y < t - \\delta \\\\\n",
        "\\frac{\\rho_0 y}{\\varepsilon_0} - \\frac{\\rho_0 t}{2\\varepsilon_0}, & t - \\delta < y < t \\\\\n",
        "0, & y > t\n",
        "\\end{cases}\n",
        "$$\n"
      ],
      "metadata": {
        "id": "ZstBkrfjDq-V"
      }
    },
    {
      "cell_type": "code",
      "source": [
        "# Python sketch with dummu variables"
      ],
      "metadata": {
        "id": "6xCIFZG4Er78"
      },
      "execution_count": null,
      "outputs": []
    },
    {
      "cell_type": "markdown",
      "source": [
        "# Question 4.4\n",
        "For a polarized object, the bound surface charge density $ \\sigma_b $ and the bound volume charge density $ \\rho_b $ are given by:\n",
        "\n",
        "**Surface Charge Density:**\n",
        "$$\n",
        "\\sigma_b = \\mathbf{P} \\cdot \\hat{\\mathbf{n}}\n",
        "$$\n",
        "where $ \\mathbf{P} $ is the polarization vector and $ \\hat{\\mathbf{n}} $ is the unit normal vector at the surface.\n",
        "\n",
        "**Volume Charge Density:**\n",
        "$$\n",
        "\\rho_b = -\\nabla \\cdot \\mathbf{P}\n",
        "$$\n",
        "\n",
        "The polarization vector is given as:\n",
        "$$\n",
        "\\mathbf{P} = P_o \\hat{\\mathbf{s}}\n",
        "$$\n",
        "where $ \\hat{\\mathbf{s}} $ is the unit vector in the cylindrical radial direction.\n",
        "\n",
        "At the surface of the cylinder (at radius $ s = a $):\n",
        "$$\n",
        "\\hat{\\mathbf{n}} = \\hat{\\mathbf{s}}\n",
        "$$\n",
        "Thus, we can compute $ \\sigma_b $:\n",
        "$$\n",
        "\\sigma_b = \\mathbf{P} \\cdot \\hat{\\mathbf{n}} = P_o \\hat{\\mathbf{s}} \\cdot \\hat{\\mathbf{s}} = P_o\n",
        "$$\n",
        "So, the bound surface charge density is:\n",
        "$$\n",
        "\\sigma_b = P_o\n",
        "$$\n",
        "\n",
        "In cylindrical coordinates, the divergence is computed as:\n",
        "$$\n",
        "\\nabla \\cdot \\mathbf{P} = \\frac{1}{s} \\frac{\\partial}{\\partial s}(s P_s) + \\frac{1}{s} \\frac{\\partial P_\\phi}{\\partial \\phi} + \\frac{\\partial P_z}{\\partial z}\n",
        "$$\n",
        "Since:\n",
        "- $ P_s = P_o $ (constant),\n",
        "- $ P_\\phi = 0 $,\n",
        "- $ P_z = 0 $,\n",
        "\n",
        "The divergence simplifies to:\n",
        "$$\n",
        "\\nabla \\cdot \\mathbf{P} = \\frac{1}{s} \\frac{\\partial}{\\partial s}(s P_o) = \\frac{P_o}{s}\n",
        "$$\n",
        "Now, we can compute $ \\rho_b $:\n",
        "$$\n",
        "\\rho_b = -\\nabla \\cdot \\mathbf{P} = -\\frac{P_o}{s}\n",
        "$$\n",
        "\n",
        "2. **Total Bound Charge**\n",
        "\n",
        "The total bound charge is the sum of the surface and volume charge densities integrated over the relevant regions.\n",
        "\n",
        "$$\n",
        "Q_{surface} = \\sigma_b \\cdot A = P_o \\cdot (2\\pi a L) = 2\\pi a L P_o\n",
        "$$\n",
        "\n",
        "For the volume charge, we integrate $ \\rho_b $ over the volume of the cylinder:\n",
        "$$\n",
        "Q_{volume} = \\int_0^L \\int_0^a \\rho_b (2\\pi s) ds dz\n",
        "$$\n",
        "Substituting $ \\rho_b = -\\frac{P_o}{s} $:\n",
        "$$\n",
        "Q_{volume} = \\int_0^L \\int_0^a -\\frac{P_o}{s} (2\\pi s) ds dz = -2\\pi P_o \\int_0^L dz \\int_0^a ds = -2\\pi L P_o a\n",
        "$$\n",
        "Total charge then becomes\n",
        "$$\n",
        "Q_{total} = Q_{surface} + Q_{volume} = (2\\pi a L P_o) + (-2\\pi L P_o a) = 0\n",
        "$$\n",
        "\n",
        "\n",
        "3. **Finding the Electric Field $ E_b(s)**\n",
        "\n",
        "\n",
        "Using Gauss's law, we find the electric field due to the bound charges.\n",
        "\n",
        "Inside the cylinder\n",
        "$$\n",
        "E_b(s) (2\\pi s L) = \\frac{Q_{enclosed}}{\\varepsilon_0} = 0 \\quad \\Rightarrow \\quad E_b(s) = 0 \\quad \\text{for } s < a\n",
        "$$\n",
        "\n",
        "Outside the cylinder\n",
        "\n",
        "The enclosed charge for $ s > a $ includes the surface charge:\n",
        "$$\n",
        "Q_{enclosed} = 2\\pi a L P_o\n",
        "$$\n",
        "Applying Gauss's law:\n",
        "$$\n",
        "E_b(s) (2\\pi s L) = \\frac{2\\pi a L P_o}{\\varepsilon_0}\n",
        "$$\n",
        "Solving for $ E_b(s) $:\n",
        "$$\n",
        "E_b(s) = \\frac{a P_o}{\\varepsilon_0 s} \\quad \\text{for } s > a\n",
        "$$\n"
      ],
      "metadata": {
        "id": "R5jpNiYrGmwN"
      }
    }
  ]
}