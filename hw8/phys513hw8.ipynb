{
 "cells": [
  {
   "cell_type": "markdown",
   "id": "a8bce7df-8a3b-45f4-bb71-f8ee608643b1",
   "metadata": {},
   "source": [
    "## Applied EMT\n",
    "### Dennies Bor"
   ]
  },
  {
   "cell_type": "code",
   "execution_count": 7,
   "id": "4aa27a75-6c8c-49a1-b9b5-596b8fff75dc",
   "metadata": {},
   "outputs": [],
   "source": [
    "# Question 1"
   ]
  },
  {
   "cell_type": "markdown",
   "id": "9aa606ce-ddcd-4df2-9927-c8b272e90ed1",
   "metadata": {},
   "source": [
    "First, getting B field at $z$:\n",
    "$$\\oint \\vec{B(z)}\\cdot d\\vec{l} = \\mu_0I_{enclosed}$$\n",
    "$$B_1l + B_1l = \\mu_0I$$\n",
    "$$2B_1l = \\mu_0I$$\n",
    "$$B(z) = \\frac{\\mu_0I}{2l}$$\n",
    "For inductance directly from flux:\n",
    "$$\\Phi_m = BA = \\frac{\\mu_0I}{2l}(hw)$$\n",
    "$$L = \\frac{\\Phi_m}{I} = \\frac{\\mu_0hw}{2l}$$\n",
    "Using energy density method to verify:\n",
    "$$\\mu_0LI^2 = \\int B^2dv$$\n",
    "$$\\mu_0LI^2 = (\\frac{\\mu_0I}{2l})^2(l\\times h\\times w)$$\n",
    "$$\\mu_0LI^2 = \\frac{\\mu_0^2I^2hw}{4l}$$\n",
    "$$L = \\frac{\\mu_0hw}{4l}$$"
   ]
  },
  {
   "cell_type": "code",
   "execution_count": 8,
   "id": "967ecff7-a999-43c4-8ddc-7d41669060f3",
   "metadata": {},
   "outputs": [],
   "source": [
    "# Question 2"
   ]
  },
  {
   "cell_type": "markdown",
   "id": "2d40ab68-839d-4432-bdae-276eefc3360f",
   "metadata": {},
   "source": [
    "The magnetic flux Φ through a surface is defined as:\n",
    "$$\\Phi = \\int_S \\mathbf{B}\\cdot d\\mathbf{A}$$\n",
    "where $d\\mathbf{A}$ along the length of the cabl and  perpendicular to $\\mathbf{B}$:\n",
    "$$dA = lds$$\n",
    "The flux through the region between $a$ and $b$ is:\n",
    "$$\\Phi = \\int_a^b B(s)lds$$\n",
    "Substituting $B(s) = \\frac{\\mu_0I}{2\\pi s}$:\n",
    "$$\\Phi = \\int_a^b \\frac{\\mu_0I}{2\\pi s}lds$$\n",
    "\n",
    "$$\\Phi = \\frac{\\mu_0Il}{2\\pi}\\ln(\\frac{b}{a})$$\n",
    "\n",
    "For inductance $L$\n",
    "### 1. Using computed $\\Phi$\n",
    "$$L = \\frac{\\Phi}{I}$$\n",
    "Substituting $\\Phi$:\n",
    "$$L = \\frac{\\mu_0l}{2\\pi}\\ln(\\frac{b}{a})$$\n",
    "\n",
    "### 2. Verify with energy density\n",
    "$$\\mu_0LI^2 = \\int B^2dv$$\n",
    "\n",
    "Substitute $B = \\frac{\\mu_0I}{2\\pi s}$ and $dv = l,ds,d\\theta$ (volume = length × area element in polar):\n",
    "\n",
    "$$\\mu_0LI^2 = \\int_0^{2\\pi}\\int_a^b (\\frac{\\mu_0I}{2\\pi s})^2 l,ds,d\\theta$$\n",
    "Now evaluate s integral:\n",
    "$$\\mu_0LI^2 = \\frac{\\mu_0^2I^2l}{2\\pi}[-\\frac{1}{s}]_a^b$$\n",
    "$$\\mu_0LI^2 = \\frac{\\mu_0^2I^2l}{2\\pi}(\\frac{1}{a} - \\frac{1}{b})$$\n",
    "Solve for L:\n",
    "$$L = \\frac{\\mu_0l}{2\\pi}(\\frac{1}{a} - \\frac{1}{b})$$"
   ]
  },
  {
   "cell_type": "code",
   "execution_count": null,
   "id": "a4151571-4861-4d32-8483-45c2e19ee984",
   "metadata": {},
   "outputs": [],
   "source": [
    "# Question 3"
   ]
  },
  {
   "cell_type": "markdown",
   "id": "d250bbce-0282-46be-8129-097726b577bc",
   "metadata": {},
   "source": [
    "From Euler's identity of postive and negative phases\n",
    "$$\\sin(x) = \\frac{e^{ix} - e^{-ix}}{2i}$$\n",
    "For sin(α+β):\n",
    "$$\\sin(α+β) = \\frac{e^{i(α+β)} - e^{-i(α+β)}}{2i}$$\n",
    "Expand:\n",
    "$$\\sin(α+β) = \\frac{e^{iα}e^{iβ} - e^{-iα}e^{-iβ}}{2i}$$\n",
    "$$= \\frac{[\\cos(α) + i\\sin(α)][\\cos(β) + i\\sin(β)] - [\\cos(α) - i\\sin(α)][\\cos(β) - i\\sin(β)]}{2i}$$\n",
    "Multiply brackets:\n",
    "$$= \\frac{[\\cos(α)\\cos(β) - \\sin(α)\\sin(β) + i(\\sin(α)\\cos(β) + \\cos(α)\\sin(β))] - [\\cos(α)\\cos(β) - \\sin(α)\\sin(β) - i(\\sin(α)\\cos(β) + \\cos(α)\\sin(β))]}{2i}$$\n",
    "Simplify:\n",
    "$$= \\frac{2i[\\sin(α)\\cos(β) + \\cos(α)\\sin(β)]}{2i}$$\n",
    "$\\therefore$\n",
    "$$\\sin(α+β) = \\sin(α)\\cos(β) + \\cos(α)\\sin(β)$$"
   ]
  },
  {
   "cell_type": "code",
   "execution_count": 5,
   "id": "463e531b-12a7-44d0-9942-869d27683fc0",
   "metadata": {},
   "outputs": [],
   "source": [
    "## Question 4"
   ]
  },
  {
   "cell_type": "markdown",
   "id": "5a2d60a3-6a8f-49de-9a60-c478dff4832b",
   "metadata": {},
   "source": [
    "$$V(z,t) = \\cos(ωt-βz) + a\\cos(ωt+βz)$$\n",
    "Write each cosine in terms of exponentials:\n",
    "$$\\cos(ωt-βz) = \\frac{e^{j(ωt-βz)} + e^{-j(ωt-βz)}}{2}$$\n",
    "$$\\cos(ωt+βz) = \\frac{e^{j(ωt+βz)} + e^{-j(ωt+βz)}}{2}$$\n",
    "Substituting:\n",
    "$$V(z,t) = \\frac{e^{j(ωt-βz)} + e^{-j(ωt-βz)}}{2} + a\\frac{e^{j(ωt+βz)} + e^{-j(ωt+βz)}}{2}$$\n",
    "Expand:\n",
    "$$V(z,t) = \\frac{e^{jωt}e^{-jβz} + e^{-jωt}e^{jβz}}{2} + a\\frac{e^{jωt}e^{jβz} + e^{-jωt}e^{-jβz}}{2}$$\n",
    "Collect $e^{jωt}$ and $e^{-jωt}$ terms:\n",
    "$$V(z,t) = \\frac{e^{jωt}(e^{-jβz} + ae^{jβz}) + e^{-jωt}(e^{jβz} + ae^{-jβz})}{2}$$\n",
    "\n",
    "First bracket expansion:\n",
    "$$e^{jωt}(e^{-jβz} + ae^{jβz}) = [\\cos(ωt) + j\\sin(ωt)][\\cos(βz) - j\\sin(βz) + a(\\cos(βz) + j\\sin(βz))]$$\n",
    "$$= [\\cos(ωt) + j\\sin(ωt)][\\cos(βz)(1+a) + j\\sin(βz)(a-1)]$$\n",
    "$$= \\cos(ωt)\\cos(βz)(1+a) + j\\cos(ωt)\\sin(βz)(a-1) + j\\sin(ωt)\\cos(βz)(1+a) - \\sin(ωt)\\sin(βz)(a-1)$$\n",
    "Second bracket expansion:\n",
    "$$e^{-jωt}(e^{jβz} + ae^{-jβz}) = [\\cos(ωt) - j\\sin(ωt)][\\cos(βz)(1+a) + j\\sin(βz)(1-a)]$$\n",
    "$$= \\cos(ωt)\\cos(βz)(1+a) + j\\cos(ωt)\\sin(βz)(1-a) - j\\sin(ωt)\\cos(βz)(1+a) + \\sin(ωt)\\sin(βz)(1-a)$$\n",
    "Sum both and divide by 2:\n",
    "$$V(z,t) = \\frac{1}{2}[2\\cos(ωt)\\cos(βz)(1+a) + 2\\sin(ωt)\\sin(βz)(1-a)]$$\n",
    "$$= (1+a)\\cos(ωt)\\cos(βz) + (1-a)\\sin(ωt)\\sin(βz)$$\n",
    "\n",
    "Therefore:\n",
    "$$A = 1 + a$$\n",
    "$$B = 1 - a$$"
   ]
  },
  {
   "cell_type": "code",
   "execution_count": 3,
   "id": "dccb4921-01a6-4b6b-af89-75787847de7f",
   "metadata": {},
   "outputs": [],
   "source": [
    "## Qestion 4"
   ]
  },
  {
   "cell_type": "markdown",
   "id": "7be314c6-8520-44f8-803f-a7b35b7a5ee8",
   "metadata": {},
   "source": [
    "\n",
    "## Using Euler Identity\n",
    "$$A_1\\cos(θ+δ_1) + A_2\\cos(θ+δ_2)$$\n",
    "In exponential form:\n",
    "$$A_1\\text{Re}{e^{j(θ+δ_1)}} + A_2\\text{Re}{e^{j(θ+δ_2)}}$$\n",
    "$$= \\text{Re}{A_1e^{jθ}e^{jδ_1} + A_2e^{jθ}e^{jδ_2}}$$\n",
    "$$= \\text{Re}{e^{jθ}(A_1e^{jδ_1} + A_2e^{jδ_2})}$$\n",
    "Let $A_1e^{jδ_1} + A_2e^{jδ_2} = a + jb$, and by expanding leads to\n",
    "$$a = A_1\\cos(δ_1) + A_2\\cos(δ_2)$$\n",
    "$$b = A_1\\sin(δ_1) + A_2\\sin(δ_2)$$\n",
    "Then:\n",
    "$$= \\text{Re}{e^{jθ}(a + jb)}$$\n",
    "$$= \\text{Re}{(a + jb)(\\cos(θ) + j\\sin(θ))}$$\n",
    "$$= a\\cos(θ) - b\\sin(θ)$$\n",
    "$$= \\sqrt{a^2 + b^2}\\cos(θ + \\arctan(b/a))$$\n",
    "\n",
    "Where:\n",
    "$$A = \\sqrt{a^2 + b^2}$$\n",
    "$$δ = \\arctan(b/a)$$\n",
    "\n",
    "## 2. Using Trig Identies\n",
    "Original equation:\n",
    "$$A_1\\cos(θ+δ_1) + A_2\\cos(θ+δ_2)$$\n",
    "Apply identity to each term:\n",
    "$$A_1[\\cos(θ)\\cos(δ_1) - \\sin(θ)\\sin(δ_1)] + A_2[\\cos(θ)\\cos(δ_2) - \\sin(θ)\\sin(δ_2)]$$\n",
    "Group $\\cos(θ) and \\sin(θ)$ terms:\n",
    "$$\\cos(θ)[A_1\\cos(δ_1) + A_2\\cos(δ_2)] - \\sin(θ)[A_1\\sin(δ_1) + A_2\\sin(δ_2)]$$\n",
    "Let:\n",
    "$$a = A_1\\cos(δ_1) + A_2\\cos(δ_2)$$\n",
    "$$b = A_1\\sin(δ_1) + A_2\\sin(δ_2)$$\n",
    "Then:\n",
    "$$= a\\cos(θ) - b\\sin(θ)$$\n",
    "$$= \\sqrt{a^2 + b^2}\\cos(θ + \\arctan(b/a))$$\n",
    "\n",
    "Where:\n",
    "$$A = \\sqrt{a^2 + b^2}$$\n",
    "$$δ = \\arctan(b/a)$$"
   ]
  },
  {
   "cell_type": "code",
   "execution_count": null,
   "id": "d0c955a5-9534-4914-a196-b9192e93987d",
   "metadata": {},
   "outputs": [],
   "source": [
    "# End"
   ]
  }
 ],
 "metadata": {
  "kernelspec": {
   "display_name": "gen-venv",
   "language": "python",
   "name": "gen-venv"
  },
  "language_info": {
   "codemirror_mode": {
    "name": "ipython",
    "version": 3
   },
   "file_extension": ".py",
   "mimetype": "text/x-python",
   "name": "python",
   "nbconvert_exporter": "python",
   "pygments_lexer": "ipython3",
   "version": "3.12.7"
  }
 },
 "nbformat": 4,
 "nbformat_minor": 5
}
