{
  "nbformat": 4,
  "nbformat_minor": 0,
  "metadata": {
    "colab": {
      "private_outputs": true,
      "provenance": []
    },
    "kernelspec": {
      "name": "python3",
      "display_name": "Python 3"
    },
    "language_info": {
      "name": "python"
    }
  },
  "cells": [
    {
      "cell_type": "code",
      "execution_count": null,
      "metadata": {
        "id": "oi4q4CcbNOeq"
      },
      "outputs": [],
      "source": [
        "#-----------------------------1.1----------------------------------------------"
      ]
    },
    {
      "cell_type": "markdown",
      "source": [
        "Solve for steady state solution I(t) for:\n",
        "$$ \\frac{dI}{dt} + \\frac{I}{\\tau} = \\frac{V_o}{L}\\cos(\\omega t + \\phi) $$\n",
        "\n",
        "Steady state solution: $I(t) = Re[\\bar{I}e^{j\\omega t}]$\n",
        "Input voltage in phasor form: $\\frac{V_o}{L}\\cos(\\omega t + \\phi) = Re[\\bar{V}e^{j\\omega t}]$ where $\\bar{V} = \\frac{V_o}{L}e^{j\\phi}$\n",
        "\n",
        "Substituting in original equation:\n",
        "$$ j\\omega\\bar{I} + \\frac{1}{\\tau}\\bar{I} = \\bar{V} $$\n",
        "\n",
        "$$ \\bar{I}(j\\omega + \\frac{1}{\\tau}) = \\frac{V_o}{L}e^{j\\phi} $$\n",
        "\n",
        "Multiply by conjugate to solve:\n",
        "$$ \\bar{I} = \\frac{V_o/L}{j\\omega + 1/\\tau}e^{j\\phi} \\cdot \\frac{-j\\omega + 1/\\tau}{-j\\omega + 1/\\tau} = \\frac{V_o/L \\cdot e^{j\\phi}(-j\\omega + 1/\\tau)}{(\\omega^2 + 1/\\tau^2)} $$\n",
        "\n",
        "For numerator $(-j\\omega + 1/\\tau)$ in form $a + bj$:\n",
        "* $a = 1/\\tau$\n",
        "* $b = -\\omega$\n",
        "Therefore:\n",
        "* Magnitude = $\\sqrt{\\omega^2 + 1/\\tau^2}$\n",
        "* Phase = $-\\arctan(\\omega\\tau)$\n",
        "\n",
        "Final steady state solution:\n",
        "$$ I(t) = \\frac{V_o/L}{\\sqrt{\\omega^2 + 1/\\tau^2}}\\cos(\\omega t + \\phi - \\arctan(\\omega\\tau)) $$"
      ],
      "metadata": {
        "id": "siYBvvJAoVCe"
      }
    },
    {
      "cell_type": "code",
      "source": [
        "#------------------------------------1.2----------------------------------------"
      ],
      "metadata": {
        "id": "ESF4pvUAoZFW"
      },
      "execution_count": null,
      "outputs": []
    },
    {
      "cell_type": "markdown",
      "source": [
        "Solve for steady state solution I(t) for:\n",
        "$$ L\\frac{dI}{dt} + IR + \\frac{Q}{C} = V_o\\cos(\\omega t) $$\n",
        "\n",
        "Consider $I(t) = Re[\\bar{I}e^{j\\omega t}]$ and\n",
        "Input voltage in phasor form: $V_o\\cos(\\omega t) = Re[\\bar{V}e^{j\\omega t}]$ where $\\bar{V} = V_o$\n",
        "\n",
        "Note that $Q = \\int I dt$ so in phasor form: $\\bar{Q} = \\frac{\\bar{I}}{j\\omega}$\n",
        "\n",
        "Substituting in original equation:\n",
        "$$ \\bar{I}(R + j\\omega L + \\frac{1}{j\\omega C}) = \\bar{V} $$\n",
        "\n",
        "$$ \\bar{I} = \\frac{\\bar{V}}{R + j(\\omega L - \\frac{1}{\\omega C})} $$\n",
        "\n",
        "Multiply by conjugate to solve:\n",
        "$$ \\bar{I} = \\frac{\\bar{V}[R - j(\\omega L - \\frac{1}{\\omega C})]}{R^2 + (\\omega L - \\frac{1}{\\omega C})^2} $$\n",
        "\n",
        "For term $[R - j(\\omega L - \\frac{1}{\\omega C})]$ in form $a + bj$:\n",
        "* $a = R$\n",
        "* $b = -(\\omega L - \\frac{1}{\\omega C})$\n",
        "Therefore:\n",
        "* Magnitude = $\\sqrt{R^2 + (\\omega L - \\frac{1}{\\omega C})^2}$\n",
        "* Phase = $-\\arctan(\\frac{\\omega L - \\frac{1}{\\omega C}}{R})$\n",
        "\n",
        "Final steady state solution:\n",
        "$$ I(t) = \\frac{V_o}{\\sqrt{R^2 + (\\omega L - \\frac{1}{\\omega C})^2}}\\cos(\\omega t - \\arctan(\\frac{\\omega L - \\frac{1}{\\omega C}}{R})) $$\n",
        "\n",
        "Which can be written as:\n",
        "$$ I(t) = \\frac{V_o}{Z}\\cos(\\omega t - \\phi) $$\n",
        "\n",
        "where:\n",
        "$$ Z = \\sqrt{R^2 + (\\omega L - \\frac{1}{\\omega C})^2} $$\n",
        "$$ \\phi = \\arctan(\\frac{\\omega L - \\frac{1}{\\omega C}}{R}) $$"
      ],
      "metadata": {
        "id": "JrQS6bnOdwP5"
      }
    },
    {
      "cell_type": "code",
      "source": [
        "#--------------------------------2----------------------------------------------"
      ],
      "metadata": {
        "id": "iEclXhDZdvwK"
      },
      "execution_count": null,
      "outputs": []
    },
    {
      "cell_type": "markdown",
      "source": [
        "\n",
        "For R-C circuit and using similar analogy in 1.2 for $Q$\n",
        "1):\n",
        "$$ V(t) = IR + \\frac{Q}{C} $$\n",
        "where $I = \\frac{dQ}{dt}$\n",
        "\n",
        "2) Phasors also:\n",
        "$$ V(t) = Re[\\bar{V_o}e^{j\\omega t}] $$\n",
        "$$ I(t) = Re[\\bar{I_o}e^{j\\omega t}] $$\n",
        "Therefore:\n",
        "$$ Q(t) = \\int I(t)dt = Re[\\frac{\\bar{I_o}}{j\\omega}e^{j\\omega t}] $$\n",
        "\n",
        "3) Substituting in original equation:\n",
        "$$ \\bar{V_o}e^{j\\omega t} = \\bar{I_o}Re^{j\\omega t} + \\frac{\\bar{I_o}}{j\\omega C}e^{j\\omega t} $$\n",
        "\n",
        "4) Since $e^{j\\omega t}$ terms cancel:\n",
        "$$ \\bar{V_o} = \\bar{I_o}R + \\bar{I_o}\\frac{1}{j\\omega C} $$\n",
        "\n",
        "5) Factor out $\\bar{I_o}$:\n",
        "$$ \\bar{V_o} = \\bar{I_o}(R + \\frac{1}{j\\omega C}) $$\n",
        "\n",
        "Therefore:\n",
        "$$ \\bar{V_o} - \\bar{I_o}R - \\bar{I_o}X_C = 0 $$\n",
        "where $X_C = \\frac{1}{j\\omega C}$ is the capacitive impedance\n",
        "\n",
        "This shows capacitor acts like a resistor with impedance $X_C$, similar to inductor with $X_L = j\\omega L$\n"
      ],
      "metadata": {
        "id": "phbnZ92pz9Ue"
      }
    },
    {
      "cell_type": "code",
      "source": [
        "##----------------------------------3.1-----------------------------------------\n",
        "#    0    L     1     L    2\n",
        "# o--o---oooo---o---oooo---o\n",
        "# |  |          |          |\n",
        "# Vo C          C         ZL\n",
        "# |  |          |          |\n",
        "# o--o----------o----------o\n",
        "# |\n",
        "# ground"
      ],
      "metadata": {
        "id": "p1x4stTyz-sw"
      },
      "execution_count": null,
      "outputs": []
    },
    {
      "cell_type": "markdown",
      "source": [
        "KCL definitions:\n",
        "\n",
        "- $\\bar{I_{0c}} = \\bar{I_0} - \\bar{I_1}$\n",
        "\n",
        "- $\\bar{I_{1c}} = \\bar{I_1} - \\bar{I_2}$\n",
        "\n",
        "Given: $V_0(t) = \\cos(\\omega t)$ and\n",
        "circuit parameters: $L$, $C$\n",
        "\n",
        "KVL definitions:\n",
        "\n",
        "1) $-\\bar{V_0} + \\frac{\\bar{I_{0c}}}{j\\omega C} = 0$\n",
        "\n",
        "2) $-\\bar{V_0} + \\bar{I_1}j\\omega L + \\frac{\\bar{I_{1c}}}{j\\omega C} = 0$\n",
        "\n",
        "3) $-\\bar{V_0} + \\bar{I_1}j\\omega L + \\bar{I_2}j\\omega L + \\bar{I_2}Z_L = 0$\n",
        "\n",
        "4) $-\\frac{\\bar{I_{0c}}}{j\\omega C} + \\bar{I_1}j\\omega L + \\frac{\\bar{I_{1c}}}{j\\omega C} = 0$\n",
        "\n",
        "5) $-\\frac{\\bar{I_{1c}}}{j\\omega C} + \\bar{I_2}j\\omega L + \\bar{I_2}Z_L = 0$\n",
        "\n",
        "Solving backwards:\n",
        "\n",
        "1) From equation 5:\n",
        "$$ \\frac{\\bar{I_{1c}}}{j\\omega C} = \\bar{I_2}(j\\omega L + Z_L) $$\n",
        "$$ \\bar{I_{1c}} = \\bar{I_2}(j\\omega L + Z_L)j\\omega C $$\n",
        "\n",
        "2) Using $\\bar{I_{1c}} = \\bar{I_1} - \\bar{I_2}$:\n",
        "$$ \\bar{I_1} - \\bar{I_2} = \\bar{I_2}(j\\omega L + Z_L)j\\omega C $$\n",
        "$$ \\bar{I_1} = \\bar{I_2}[1 + (j\\omega L + Z_L)j\\omega C] $$\n",
        "\n",
        "3) From equation 1:\n",
        "$$ \\bar{V_0} = \\frac{\\bar{I_{0c}}}{j\\omega C} $$\n",
        "$$ \\bar{I_{0c}} = \\bar{V_0}j\\omega C $$\n",
        "\n",
        "4) Using $\\bar{I_{0c}} = \\bar{I_0} - \\bar{I_1}$:\n",
        "$$ \\bar{V_0}j\\omega C = \\bar{I_0} - \\bar{I_2}[1 + (j\\omega L + Z_L)j\\omega C] $$\n",
        "\n",
        "5) Solving for I2 using equation 3:\n",
        "$$ \\bar{I_2} = \\frac{\\bar{V_0}}{(1 + (j\\omega L + Z_L)j\\omega C)j\\omega L + j\\omega L + Z_L} $$\n",
        "\n",
        "Final expressions:\n",
        "\n",
        "For currents through elements:\n",
        "$$ \\bar{I_1} = \\bar{I_2}[1 + (j\\omega L + Z_L)j\\omega C] $$\n",
        "$$ \\bar{I_0} = \\bar{V_0}j\\omega C + \\bar{I_2}[1 + (j\\omega L + Z_L)j\\omega C] $$\n",
        "\n",
        "For currents through capacitors:\n",
        "$$ \\bar{I_{0c}} = \\bar{V_0}j\\omega C $$\n",
        "$$ \\bar{I_{1c}} = \\bar{I_2}(j\\omega L + Z_L)j\\omega C $$\n"
      ],
      "metadata": {
        "id": "A2kR0ln23ECk"
      }
    },
    {
      "cell_type": "code",
      "source": [
        "#------------------------------3.3----------------------------------------------"
      ],
      "metadata": {
        "id": "1RGLU_gseJQq"
      },
      "execution_count": null,
      "outputs": []
    },
    {
      "cell_type": "markdown",
      "source": [
        "Across C1:\n",
        "$$V_{C1} = \\frac{\\bar{I_{0c}}}{j\\omega C} = \\frac{\\bar{V_0}j\\omega C}{j\\omega C} = \\bar{V_0} = \\cos(\\omega t)$$\n",
        "\n",
        "Across C2:\n",
        "$$V_{C2} = \\frac{\\bar{I_{1c}}}{j\\omega C} = \\frac{\\bar{I_2}(j\\omega L + Z_L)j\\omega C}{j\\omega C} = \\bar{I_2}(j\\omega L + Z_L)$$\n",
        "\n",
        "Across L1:\n",
        "$$V_{L1} = \\bar{I_1}j\\omega L = \\bar{I_2}[1 + (j\\omega L + Z_L)j\\omega C]j\\omega L$$\n",
        "\n",
        "Across L2:\n",
        "$$V_{L2} = \\bar{I_2}j\\omega L$$\n",
        "\n",
        "Across ZL:\n",
        "$$V_{ZL} = \\bar{I_2}Z_L$$\n",
        "\n",
        "where:\n",
        "$$\\bar{I_2} = \\frac{1}{(1 + (j\\omega L + Z_L)j\\omega C)j\\omega L + j\\omega L + Z_L}$$"
      ],
      "metadata": {
        "id": "VJllTvoMKk8x"
      }
    },
    {
      "cell_type": "code",
      "source": [
        "#--------------------------3.3--------------------------------------------------\n",
        "#Check of impedance seen by source"
      ],
      "metadata": {
        "id": "5NlhCY-tejJe"
      },
      "execution_count": null,
      "outputs": []
    },
    {
      "cell_type": "markdown",
      "source": [
        "Starting with:\n",
        "$$\\bar{I_0} = \\bar{V_0}j\\omega C + \\bar{I_2}[1 + (j\\omega L + Z_L)j\\omega C]$$\n",
        "$$\\bar{I_2} = \\frac{\\bar{V_0}}{(1 + (j\\omega L + Z_L)j\\omega C)j\\omega L + j\\omega L + Z_L}$$\n",
        "\n",
        "Substitute $\\bar{I_2}$:\n",
        "$$\\bar{I_0} = \\bar{V_0}\\left(j\\omega C + \\frac{1 + (j\\omega L + Z_L)j\\omega C}{(1 + (j\\omega L + Z_L)j\\omega C)j\\omega L + j\\omega L + Z_L}\\right)$$\n",
        "\n",
        "Therefore:\n",
        "$$Z_{in} = \\frac{\\bar{V_0}}{\\bar{I_0}} = \\frac{1}{j\\omega C + \\frac{1 + (j\\omega L + Z_L)j\\omega C}{(1 + (j\\omega L + Z_L)j\\omega C)j\\omega L + j\\omega L + Z_L}}$$\n",
        "\n",
        "Proof:\n",
        "For $\\omega = 1$ and $Z_L = 1$:\n",
        "\n",
        "$$Z_{in} = \\frac{1}{j + \\frac{1 + (j + 1)j}{(1 + (j + 1)j)j + j + 1}} = \\frac{1}{1 + j}$$\n",
        "\n",
        "Multiplying numerator and denominator by conjugate $(1 - j)$:\n",
        "\n",
        "$$Z_{in} = \\frac{1}{1 + j} \\cdot \\frac{1 - j}{1 - j} = \\frac{1 - j}{(1 + j)(1 - j)} = \\frac{1 - j}{1 + 1} = \\frac{1-j}{2}$$\n"
      ],
      "metadata": {
        "id": "zMjOL6I-KlFT"
      }
    },
    {
      "cell_type": "code",
      "source": [
        "#-----------------------------------3.4.1---------------------------------------"
      ],
      "metadata": {
        "id": "8hHz1LOk3Ek5"
      },
      "execution_count": null,
      "outputs": []
    },
    {
      "cell_type": "markdown",
      "source": [
        "Given $V_0(t) = \\cos(\\omega t)$, in phasor form:\n",
        "$$\\bar{V_0} = e^{j\\cdot 0} = 1$$\n",
        "\n",
        "Then for currents:\n",
        "$$\\bar{I_2} = \\frac{\\bar{V_0}}{(1 + (j\\omega L + Z_L)j\\omega C)j\\omega L + j\\omega L + Z_L}$$\n",
        "\n",
        "$$ \\bar{I_2} = \\frac{\\bar{V_0}}{(1 + (j\\omega L + Z_L)j\\omega C)j\\omega L + j\\omega L + Z_L} $$\n",
        "\n",
        "Let $Z_L = R$:\n",
        "$$ \\bar{I_2} = \\frac{1}{(1 + (j\\omega L + R)j\\omega C)j\\omega L + j\\omega L + R} $$\n",
        "$$ = \\frac{1}{(1 + j^2\\omega^2LC + j\\omega RC)j\\omega L + j\\omega L + R} $$\n",
        "$$ = \\frac{1}{(1 - \\omega^2LC + j\\omega RC)j\\omega L + j\\omega L + R} $$\n",
        "$$ = \\frac{1}{j\\omega L - j\\omega^3L^2C + j^2\\omega^2RLC + j\\omega L + R} $$\n",
        "$$ = \\frac{1}{2j\\omega L - j\\omega^3L^2C - \\omega^2RLC + R} $$\n",
        "\n",
        "Let:\n",
        "$a = R - \\omega^2RLC$ (real part)\n",
        "$b = 2\\omega L - \\omega^3L^2C$ (coefficient of j in denominator)\n",
        "\n",
        "Then:\n",
        "$$ = \\frac{1}{jb + a} \\cdot \\frac{-jb + a}{-jb + a} $$\n",
        "$$ = \\frac{a - jb}{a^2 + b^2} $$\n",
        "\n",
        "Therefore:\n",
        "$I_2(t) = A\\cos(\\omega t + \\phi)$\n",
        "where:\n",
        "$$ A = \\frac{1}{\\sqrt{a^2 + b^2}}$$\n",
        "$$ \\phi = -\\tan^{-1}\\left(\\frac{b}{a}\\right) $$\n",
        "\n",
        "For $\\bar{I_1}$\n",
        "$$\\bar{I_1} = \\bar{I_2}[1 + (j\\omega L + Z_L)j\\omega C]$$\n",
        "$$ \\bar{I_1} = \\frac{a - jb}{a^2 + b^2}[1 + (j\\omega L + R)j\\omega C] $$\n",
        "\n",
        "$$ = \\frac{a - jb}{a^2 + b^2}[1 + j^2\\omega^2LC + j\\omega RC] $$\n",
        "\n",
        "$$ = \\frac{a - jb}{a^2 + b^2}[1 - \\omega^2LC + j\\omega RC] $$\n",
        "\n",
        "Let:\n",
        "$c = 1 - \\omega^2LC$ (real part of bracket)\n",
        "$d = \\omega RC$ (coefficient of j in bracket)\n",
        "\n",
        "$$ = \\frac{(a - jb)(c + jd)}{a^2 + b^2} $$\n",
        "\n",
        "$$ = \\frac{(ac + bd) + j(ad - bc)}{a^2 + b^2} $$\n",
        "\n",
        "Therefore:\n",
        "$I_1(t) = A_1\\cos(\\omega t + \\phi_1)$\n",
        "where:\n",
        "$$ A_1 = \\frac{\\sqrt{(ac + bd)^2 + (ad - bc)^2}}{a^2 + b^2} $$\n",
        "$$ \\phi_1 = \\tan^{-1}\\left(\\frac{ad - bc}{ac + bd}\\right) $$\n",
        "\n",
        "\n",
        "Finally,\n",
        "\n",
        "$$\\bar{I_0} = \\bar{V_0}j\\omega C + \\bar{I_2}[1 + (j\\omega L + Z_L)j\\omega C]$$\n",
        "\n",
        "$$ \\bar{I_0} = j\\omega C + \\frac{a - jb}{a^2 + b^2}[1 - \\omega^2LC + j\\omega RC] $$\n",
        "\n",
        "$$ = j\\omega C + \\frac{a - jb}{a^2 + b^2}[c + jd] $$\n",
        "\n",
        "$$ = j\\omega C + \\frac{(ac + bd) + j(ad - bc)}{a^2 + b^2} $$\n",
        "\n",
        "$$ = \\frac{(ac + bd)}{a^2 + b^2} + j[\\omega C + \\frac{ad - bc}{a^2 + b^2}] $$\n",
        "\n",
        "Therefore:\n",
        "$I_0(t) = A_0\\cos(\\omega t + \\phi_0)$\n",
        "where:\n",
        "$$ A_0 = \\sqrt{\\frac{(ac + bd)^2}{(a^2 + b^2)^2} + [\\omega C + \\frac{ad - bc}{a^2 + b^2}]^2} $$\n",
        "$$ \\phi_0 = \\tan^{-1}\\left(\\frac{\\omega C(a^2 + b^2) + ad - bc}{ac + bd}\\right) $$"
      ],
      "metadata": {
        "id": "czTr9nUvVQib"
      }
    },
    {
      "cell_type": "code",
      "source": [
        "#-----------------------------------3.4.2---------------------------------------"
      ],
      "metadata": {
        "id": "eUtn627uYV_j"
      },
      "execution_count": null,
      "outputs": []
    },
    {
      "cell_type": "markdown",
      "source": [
        "Using previous expressions where:\n",
        "\n",
        "For $V_{C2}$ from $\\bar{I_2}(j\\omega L + R)$:\n",
        "$$\\frac{a - jb}{a^2 + b^2}(j\\omega L + R)$$\n",
        "$$= \\frac{(a - jb)(j\\omega L + R)}{a^2 + b^2}$$\n",
        "$$= \\frac{(aR + b\\omega L) + j(a\\omega L - bR)}{a^2 + b^2}$$\n",
        "$$V_{C2}(t) = \\frac{\\sqrt{(aR + b\\omega L)^2 + (a\\omega L - bR)^2}}{a^2 + b^2}\\cos(\\omega t + \\tan^{-1}(\\frac{a\\omega L - bR}{aR + b\\omega L}))$$\n",
        "\n",
        "For $V_{L2}$ from $\\bar{I_2}j\\omega L$:\n",
        "$$\\frac{a - jb}{a^2 + b^2}j\\omega L$$\n",
        "$$= \\frac{\\omega L(b + ja)}{a^2 + b^2}$$\n",
        "$$V_{L2}(t) = \\frac{\\omega L}{\\sqrt{a^2 + b^2}}\\cos(\\omega t + \\tan^{-1}(\\frac{a}{b}))$$\n",
        "\n",
        "For $V_{ZL}$ from $\\bar{I_2}R$:\n",
        "$$\\frac{a - jb}{a^2 + b^2}R$$\n",
        "$$= \\frac{R(a - jb)}{a^2 + b^2}$$\n",
        "$$V_{ZL}(t) = \\frac{R}{\\sqrt{a^2 + b^2}}\\cos(\\omega t - \\tan^{-1}(\\frac{b}{a}))$$\n",
        "\n",
        "Finally, for $V_{L1}$:\n",
        "\n",
        "$$V_{L1} = \\frac{a - jb}{a^2 + b^2}[1 + (j\\omega L + R)j\\omega C]j\\omega L$$\n",
        "$$= \\frac{a - jb}{a^2 + b^2}[1 - \\omega^2LC + j\\omega RC]j\\omega L$$\n",
        "$$= \\frac{a - jb}{a^2 + b^2}[c + jd]j\\omega L$$\n",
        "$$= \\frac{(ac + bd) + j(ad - bc)}{a^2 + b^2}j\\omega L$$\n",
        "$$= \\frac{\\omega L[-(ad - bc) + j(ac + bd)]}{a^2 + b^2}$$\n",
        "Therefore:\n",
        "$$V_{L1}(t) = \\frac{\\omega L\\sqrt{(ad - bc)^2 + (ac + bd)^2}}{a^2 + b^2}\\cos(\\omega t + \\tan^{-1}(\\frac{ac + bd}{-(ad - bc)}))$$\n",
        "\n",
        "where:\n",
        "$a = R - \\omega^2RLC$\n",
        "$b = 2\\omega L - \\omega^3L^2C$\n",
        "$c = 1 - \\omega^2LC$\n",
        "$d = \\omega RC$\n",
        "\n"
      ],
      "metadata": {
        "id": "QiaktFe2a27n"
      }
    },
    {
      "cell_type": "code",
      "source": [
        "#-----------------------------------------4--------------------------------\n",
        "# plotting\n",
        "import numpy as np\n",
        "import matplotlib.pyplot as plt\n",
        "\n",
        "# Params\n",
        "omega = 1\n",
        "C = L = R = 1\n",
        "t = np.linspace(0, 10, 1000)  # Time range for plotting\n",
        "\n",
        "# Parameters for a, b, c, d\n",
        "a = R - omega**2 * R * L * C\n",
        "b = 2 * omega * L - omega**3 * L**2 * C\n",
        "c = 1 - omega**2 * L * C\n",
        "d = omega * R * C\n",
        "\n",
        "# Input voltage\n",
        "v0 = np.cos(w*t)\n",
        "\n",
        "# VC2 calculation\n",
        "vc2_amp = np.sqrt((a*R + b*w*L)**2 + (a*w*L - b*R)**2)/(a**2 + b**2)\n",
        "vc2_phase = np.arctan2(a*w*L - b*R, a*R + b*w*L)\n",
        "vc2 = vc2_amp * np.cos(w*t + vc2_phase)\n",
        "\n",
        "# VL2 calculation\n",
        "vl2_amp = w*L/np.sqrt(a**2 + b**2)\n",
        "vl2_phase = np.arctan2(a, b)\n",
        "vl2 = vl2_amp * np.cos(w*t + vl2_phase)\n",
        "\n",
        "# VZL calculation\n",
        "vzl_amp = R/np.sqrt(a**2 + b**2)\n",
        "vzl_phase = -np.arctan2(b, a)\n",
        "vzl = vzl_amp * np.cos(w*t + vzl_phase)\n",
        "\n",
        "# VL1 calculation\n",
        "vl1_amp = w*L*np.sqrt((a*d - b*c)**2 + (a*c + b*d)**2)/(a**2 + b**2)\n",
        "vl1_phase = np.arctan2(a*c + b*d, -(a*d - b*c))\n",
        "vl1 = vl1_amp * np.cos(w*t + vl1_phase)\n",
        "\n",
        "# Plotting\n",
        "plt.figure(figsize=(12, 8))\n",
        "plt.plot(t, v0, label='V0(t)')\n",
        "plt.plot(t, vc2, label='VC2(t)')\n",
        "plt.plot(t, vl2, label='VL2(t)')\n",
        "plt.plot(t, vzl, label='VZL(t)')\n",
        "plt.plot(t, vl1, label='VL1(t)')\n",
        "plt.grid(True)\n",
        "plt.xlabel('Time')\n",
        "plt.ylabel('Voltage')\n",
        "plt.title('Voltage Waveforms')\n",
        "plt.legend()\n",
        "plt.show()\n",
        "\n",
        "# Amps and phases\n",
        "print(f\"VC2 amplitude: {vc2_amp:.3f}, phase: {vc2_phase*180/np.pi:.1f}°\")\n",
        "print(f\"VL2 amplitude: {vl2_amp:.3f}, phase: {vl2_phase*180/np.pi:.1f}°\")\n",
        "print(f\"VZL amplitude: {vzl_amp:.3f}, phase: {vzl_phase*180/np.pi:.1f}°\")\n",
        "print(f\"VL1 amplitude: {vl1_amp:.3f}, phase: {vl1_phase*180/np.pi:.1f}°\")"
      ],
      "metadata": {
        "id": "wmDJLcXBmv4R"
      },
      "execution_count": null,
      "outputs": []
    }
  ]
}