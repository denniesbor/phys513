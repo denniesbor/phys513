{
  "nbformat": 4,
  "nbformat_minor": 0,
  "metadata": {
    "colab": {
      "provenance": []
    },
    "kernelspec": {
      "name": "python3",
      "display_name": "Python 3"
    },
    "language_info": {
      "name": "python"
    }
  },
  "cells": [
    {
      "cell_type": "markdown",
      "source": [
        "<h2 style=\"text-align: center; font-weight: bold;\">Dennies Bor</h2>\n",
        "<br />\n",
        "<h3 style=\"text-align: center; font-weight: bold;\">Applied Electrodynamics Theory</h3>"
      ],
      "metadata": {
        "id": "NMJW8zulgkvC"
      }
    },
    {
      "cell_type": "markdown",
      "source": [
        "## Question 2\n",
        "1. Considering the effects of continous charges\n",
        "\n",
        "For a line charge along the x-axis, the cumulative effect of the charges along the line is given by:\n",
        "\n",
        "$$\n",
        "E_{ye} = k \\sigma L \\int_{-L}^{L} \\frac{dx}{(x^2 + L^2)^{3/2}}\n",
        "$$\n",
        "\n",
        "where:\n",
        "- $ \\sigma $ is the uniform charge density,\n",
        "- $ L $ is the distance from the line to the point on the y-axis,\n",
        "- $ k = \\frac{1}{4 \\pi \\epsilon_0} $ is the Coulomb constant.\n",
        "\n",
        "This integral represents the continuous contribution of the line charge to the electric field at the point on the y-axis due to symmetry.\n",
        "\n",
        "2. Considering discrete charges\n",
        "\n",
        "For charge $q_i$ at $x_i$, the E field at $L$ along the y axis is given by:\n",
        "\n",
        "$$\n",
        "E_{i} = k \\frac{q_i}{(x_i^2 + L^2)^{3/2}}\n",
        "$$\n",
        "We consider symmetry while deriving this equation. The $q_i$ is related to the sum of charges along the differential length. Since the charge density is known, we can express $q_i$ as:\n",
        "\n",
        "$$\n",
        "q_i = \\Delta x \\cdot \\sigma\n",
        "$$\n",
        "where $\\sigma$ is the charge density per unit length, and $\\Delta x = \\frac{2L}{N-1}$ is the separation between adjacent point charges.\n",
        "\n",
        "To calculate the total electric field at a point $ \\alpha $ along the z-axis at a distance $L$, we sum the contributions of all charges:\n",
        "\n",
        "$$\n",
        "E_{\\text{ya}} = \\sum_{i=1}^{N} k \\frac{\\Delta x \\cdot \\sigma}{(x_i^2 + L^2)^{3/2}}\n",
        "$$\n",
        "\n",
        "where $x_i$ can be expressed by $\\Delta x$ as\n",
        "$$x_i = -L + (i-1)\\Delta X$$\n",
        "\n",
        "3. Finding the solution to the question, we can isolate $k$ and $\\sigma$ ending up with the following.\n",
        "\n",
        "$$\\left|\\frac{E'_{ye} - E'_{ya}}{E'_{ya}} \\right|$$\n",
        "\n",
        "That is dimensionless without $k$ and $\\sigma$"
      ],
      "metadata": {
        "id": "_P7D4l2zE9iO"
      }
    },
    {
      "cell_type": "code",
      "source": [
        "import matplotlib.pyplot as plt\n",
        "import numpy as np\n",
        "from scipy.integrate import quad\n"
      ],
      "metadata": {
        "id": "Zk-rEzFOgiV6"
      },
      "execution_count": 2,
      "outputs": []
    },
    {
      "cell_type": "code",
      "source": [
        "# Constants\n",
        "L = 1  # Length (in meters)\n",
        "N = 3  # Starting number of discrete points (should be odd)\n",
        "\n",
        "# Function to calculate the dimensionless electric field for discrete charges\n",
        "def electric_field_y(x_i, L, delta_x):\n",
        "    E_y_sum = np.sum(delta_x / ((x_i**2 + L**2)**(3/2)))\n",
        "    return E_y_sum\n",
        "\n",
        "# Function for the continuous case (integral)\n",
        "def integrand(x, L):\n",
        "    return 1 / ((x**2 + L**2)**(3/2))\n",
        "\n",
        "# Iterative loop to increase N and check error condition\n",
        "while True:\n",
        "    # Step size delta_x for discrete charges\n",
        "    delta_x = 2 * L / (N - 1)\n",
        "\n",
        "    # Positions of charges from -L to L\n",
        "    x_i = np.array([-L + (i - 1) * delta_x for i in range(1, N+1)])\n",
        "\n",
        "    # Calculate exact electric field E_ye using integration\n",
        "    E_ye, error_estimate = quad(integrand, -L, L, args=(L))\n",
        "\n",
        "    # Calculate approximate electric field E_ya using discrete summation\n",
        "    E_ya = electric_field_y(x_i, L, delta_x)\n",
        "\n",
        "    # Relative error comparison\n",
        "    relative_error = abs((E_ye - E_ya) / E_ye)\n",
        "\n",
        "    # Display results every 10th iteration for tracking\n",
        "    if N % 10 == 0:\n",
        "        print(f\"Ratio of exact E_ye to approx E_ya: {(E_ye / E_ya) * 100:.2f}%\")\n",
        "\n",
        "    # Check if the error condition is satisfied\n",
        "    if relative_error <= 0.01:\n",
        "        print(f\"Error: {relative_error:.6e}\")\n",
        "        print(\"The approximation satisfies the error condition.\")\n",
        "        break\n",
        "\n",
        "    # Increase N by 2 (keep odd)\n",
        "    N += 2\n",
        "\n",
        "print(f\"The number of charges N satisfying the condition is {N}\")"
      ],
      "metadata": {
        "colab": {
          "base_uri": "https://localhost:8080/"
        },
        "id": "tI3JhN3hKLkC",
        "outputId": "d3204917-7592-4b64-e342-05d123b44927"
      },
      "execution_count": 30,
      "outputs": [
        {
          "output_type": "stream",
          "name": "stdout",
          "text": [
            "Error: 9.900003e-03\n",
            "The approximation satisfies the error condition.\n",
            "The number of charges N satisfying the condition is 51\n"
          ]
        }
      ]
    },
    {
      "cell_type": "markdown",
      "source": [
        "## Question 2\n",
        "\n",
        "We considered centered such that half the cylinder above the x-y plane and the other below it.\n",
        "- At $Z =  0 $ the E field is zero. Moreover, due to symmetry, the force due to surface charges act only along the z axis.\n",
        "- We will consider a ring of charge along the x-y plane with differential heoight of $Z'$\n",
        "\n",
        "$\\therefore $ the differential $dq$ is given by:4\n",
        "$$dq = σdz'$$\n",
        "recall:\n",
        "$$dE_z = dEcos(\\theta)$$\n",
        "where $cos(\\theta) = \\frac{z-z'}{\\sqrt{R^2 - (z-z')^2}}$.\n",
        "\n",
        "$$dE = \\left(\\frac{kdq}{R^2 - (z-z')^2}\\right)$$\n",
        "$$dE_z = \\left(\\frac{kdq}{R^2 - (z-z')^2}\\right) * \\left(\\frac{z-z'}{\\sqrt{R^2 - (z-z')^2}}\\right)$$\n",
        "\n",
        "We can further simplify the denominator and intergrate from -h/2 to h/2 to get the cumulative $E$ along the Z axis.\n",
        "$\\therefore$\n",
        "\n",
        "$$E_z = kσ\\int_{-h/2}^{h/2}\\frac{(z-z')dz'}{(R^2-(z-z')^2)^{3/2}} $$"
      ],
      "metadata": {
        "id": "X62tTO_iQkc7"
      }
    }
  ]
}