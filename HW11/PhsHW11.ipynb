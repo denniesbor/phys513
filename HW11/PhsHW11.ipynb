{
 "cells": [
  {
   "cell_type": "code",
   "execution_count": null,
   "metadata": {
    "id": "uYciLYvvwkun"
   },
   "outputs": [],
   "source": [
    "# Question 1.1\n",
    "#|---------------- --------------------\n",
    "#|\n",
    "#|\n",
    "#(~)\n",
    "#|\n",
    "#|     ---> (V0+)    ---> (V1+)\n",
    "#|---------------  -------------------\n",
    "#     <--(V0-)"
   ]
  },
  {
   "cell_type": "markdown",
   "metadata": {
    "id": "_3qw064OyhB_"
   },
   "source": [
    "For $V_0(x,t)$:\n",
    "\n",
    "$$V_0(x,t) = Re(e^{jωt}[V_f^+e^{-jβx} + V_f^-e^{+jβx}])$$\n",
    "where -L ≤ x ≤ 0\n",
    "\n",
    "$$V_1(x,t) = Re(e^{jωt}[V_t^+e^{-jβx}])$$\n",
    "where x ≥ 0\n",
    "\n",
    "$$I_0(x,t) = Re(e^{jωt}[\\frac{V_f^+}{Z_0}e^{-jβx} - \\frac{V_f^-}{Z_0}e^{+jβx}])$$\n",
    "\n",
    "$$I_1(x,t) = Re(e^{jωt}[\\frac{V_t^+}{Z_1}e^{-jβx}])$$\n",
    "\n",
    "At x = -L:\n",
    "$$V_0(-L,t) = V_{in}(t) = Re(V_se^{jωt})$$\n",
    "\n",
    "$$Re(e^{jωt}[V_f^+e^{jβL} + V_f^-e^{-jβL}]) = Re(V_se^{jωt})$$\n",
    "\n",
    "Boundary conditions:\n",
    "\n",
    "At x = -L:\n",
    "$$V_f^+e^{jβL} + V_f^-e^{-jβL} = V_s$$\n",
    "\n",
    "At x = 0 (voltage continuity):\n",
    "$$V_f^+ + V_f^- = V_t^+$$\n",
    "\n",
    "At x = 0 (current continuity):\n",
    "$$\\frac{V_f^+}{Z_0} - \\frac{V_f^-}{Z_0} = \\frac{V_t^+}{Z_1}$$\n",
    "\n",
    "With reflection coefficient:\n",
    "$$ρ = \\frac{Z_1 - Z_0}{Z_1 + Z_0}$$\n",
    "\n",
    "$$V_f^+(e^{jβL} + ρe^{-jβL}) = V_s$$\n",
    "\n",
    "Therefore:\n",
    "$$V_f^+ = \\frac{V_s}{e^{jβL} + ρe^{-jβL}}$$\n",
    "\n",
    "Since $V_f^- = ρV_f^+$:\n",
    "$$V_f^- = \\frac{ρV_s}{e^{jβL} + ρe^{-jβL}}$$\n",
    "\n",
    "And from voltage continuity at x = 0:\n",
    "$$V_t^+ = V_f^+ + V_f^- = V_f^+(1 + ρ)$$\n",
    "\n",
    "Therefore:\n",
    "$$V_t^+ = \\frac{V_s(1 + ρ)}{e^{jβL} + ρe^{-jβL}}$$"
   ]
  },
  {
   "cell_type": "code",
   "execution_count": null,
   "metadata": {
    "id": "-4wxVf-Cwsmx"
   },
   "outputs": [],
   "source": [
    "# Question 1.2"
   ]
  },
  {
   "cell_type": "markdown",
   "metadata": {
    "id": "0ZrsANT5ykUk"
   },
   "source": [
    "We know:\n",
    "$$V_f^+ = \\frac{V_s}{e^{j\\beta_0L} + \\rho e^{-j\\beta_0L}}$$\n",
    "$$V_f^- = \\frac{\\rho V_s}{e^{j\\beta_0L} + \\rho e^{-j\\beta_0L}}$$\n",
    "where \\rho = 1/2\n",
    "\n",
    "Substituting these in:\n",
    "$$V_0(x,0) = Re[V_s(\\frac{e^{-j\\beta_0x}}{e^{j\\beta_0L} + \\frac{1}{2}e^{-j\\beta_0L}} + \\frac{\\frac{1}{2}e^{+j\\beta_0x}}{e^{j\\beta_0L} + \\frac{1}{2}e^{-j\\beta_0L}})]$$\n",
    "$$= Re[V_s(\\frac{e^{-j\\beta_0x} + \\frac{1}{2}e^{+j\\beta_0x}}{e^{j\\beta_0L} + \\frac{1}{2}e^{-j\\beta_0L}})]$$\n",
    "Similarly for second cable (x ≥ 0):\n",
    "$$V_1(x,0) = Re[V_t^+e^{-j\\beta_0x}]$$\n",
    "$$= Re[V_s\\frac{\\frac{3}{2}e^{-j\\beta_0x}}{e^{j\\beta_0L} + \\frac{1}{2}e^{-j\\beta_0L}}]$$\n",
    "Since \\beta_0L = 4\\pi:\n",
    "$e^{j\\beta_0L} = e^{-j\\beta_0L} = 1$\n",
    "Therefore:\n",
    "$$V_0(x,0) = Re[V_s(\\frac{2}{3})(e^{-j\\beta_0x} + \\frac{1}{2}e^{+j\\beta_0x})]$$\n",
    "$$V_1(x,0) = Re[V_se^{-j\\beta_0x}]$$\n",
    "For -L ≤ x ≤ 0:\n",
    "$$V_0(x,0) = V_s\\cos(\\beta_0x)$$\n",
    "For x ≥ 0:\n",
    "$$V_1(x,0) = V_s\\cos(\\beta_0x)$$"
   ]
  },
  {
   "cell_type": "code",
   "execution_count": null,
   "metadata": {
    "id": "lf8LCnLn_ggr"
   },
   "outputs": [],
   "source": [
    "import numpy as np\n",
    "import matplotlib.pyplot as plt\n",
    "\n",
    "# Parameters\n",
    "Vs = 1.0\n",
    "beta0_l0 = 4*np.pi  # β₀l₀ = 4π\n",
    "\n",
    "# For first cable (-L ≤ x ≤ 0)\n",
    "x1_l0 = np.linspace(-1, 0, 500)  # x/l₀ from -1 to 0\n",
    "V1 = Vs * np.cos(beta0_l0 * x1_l0)  # cos(4πx/l₀)\n",
    "\n",
    "# For second cable (0 ≤ x)\n",
    "x2_l0 = np.linspace(0, 2, 500)  # x/l₀ from 0 to 2\n",
    "V2 = Vs * np.cos(beta0_l0 * x2_l0)  # cos(4πx/l₀)\n",
    "\n",
    "# Plotting\n",
    "plt.figure(figsize=(12, 6))\n",
    "plt.plot(x1_l0, V1, 'blue', label='First Cable (Z₀)', linewidth=2)\n",
    "plt.plot(x2_l0, V2, 'red', label='Second Cable (3Z₀)', linewidth=2)\n",
    "plt.axvline(x=0, color='black', linestyle='--', alpha=0.5)  # marking x=0\n",
    "\n",
    "plt.grid(True)\n",
    "plt.xlabel('x/l₀')\n",
    "plt.ylabel('V(x,0)/Vs')\n",
    "plt.title('Voltage Distribution Along the Transmission Lines (β₀l₀ = 4π)')\n",
    "plt.legend()\n",
    "\n",
    "plt.ylim(-1.5, 1.5)\n",
    "plt.xlim(-1, 2)\n",
    "plt.show()"
   ]
  },
  {
   "cell_type": "code",
   "execution_count": null,
   "metadata": {
    "id": "ZI6N71lSH4nu"
   },
   "outputs": [],
   "source": [
    "# Question 1.3"
   ]
  },
  {
   "cell_type": "markdown",
   "metadata": {
    "id": "M3r34tnSAI9u"
   },
   "source": [
    "Recall,\n",
    "\n",
    "$$V_0(x) = V_f^+e^{-j\\beta_0x} + V_f^-e^{+j\\beta_0x}$$\n",
    "and\n",
    "$V_f^+ = \\frac{2}{3}V_s$\n",
    "$V_f^- = \\frac{1}{3}V_s$\n",
    "\n",
    "So:\n",
    "$$V_0(x) = \\frac{2}{3}V_s e^{-j\\beta_0x} + \\frac{1}{3}V_s e^{+j\\beta_0x}$$\n",
    "$$= V_s[\\frac{2}{3}(\\cos(\\beta_0x) - j\\sin(\\beta_0x)) + \\frac{1}{3}(\\cos(\\beta_0x) + j\\sin(\\beta_0x))]$$\n",
    "$$= V_s[\\cos(\\beta_0x) - j\\frac{1}{3}\\sin(\\beta_0x)]$$\n",
    "\n",
    "For polar form $|V_0(x)|e^{j\\phi}$:\n",
    "\n",
    "$|V_0(x)| = V_s\\sqrt{\\cos^2(\\beta_0x) + \\frac{1}{9}\\sin^2(\\beta_0x)}$\n",
    "\n",
    "$\\phi = -\\tan^{-1}(\\frac{\\frac{1}{3}\\sin(\\beta_0x)}{\\cos(\\beta_0x)})$"
   ]
  },
  {
   "cell_type": "code",
   "execution_count": null,
   "metadata": {
    "id": "u7bAr0KP_hEx"
   },
   "outputs": [],
   "source": [
    "## Question 2.1"
   ]
  },
  {
   "cell_type": "markdown",
   "metadata": {
    "id": "dEEEsdJ_Ep3I"
   },
   "source": [
    "1) KCL at V₁ node (first capacitor):\n",
    "* Current entering: I₁\n",
    "* Current leaving: I₂\n",
    "* Current through capacitor: C₁dV₁/dt\n",
    "$$C\\frac{dV_1}{dt} = I_1 - I_2$$\n",
    "In state variables (C=1):\n",
    "$$\\dot{x_3} = x_1 - x_2$$\n",
    "\n",
    "2) KVL around first L loop:\n",
    "$$L\\frac{dI_1}{dt} = V_0 - V_1$$\n",
    "In state variables (L=1):\n",
    "$$\\dot{x_1} = cos(t) - x_3$$\n",
    "\n",
    "3) KVL around second L loop:\n",
    "Since V₂ = I₂R and R=1:\n",
    "$$L\\frac{dI_2}{dt} = V_1 - I_2$$\n",
    "In state variables (L=1):\n",
    "$$\\dot{x_2} = x_3 - x_2$$\n",
    "\n",
    "This gives us:\n",
    "$$\\begin{bmatrix} \\dot{x_1} \\\\ \\dot{x_2} \\\\ \\dot{x_3} \\end{bmatrix} =\n",
    "\\begin{bmatrix}\n",
    "0 & 0 & -1 \\\\\n",
    "0 & -1 & 1 \\\\\n",
    "1 & -1 & 0\n",
    "\\end{bmatrix}\n",
    "\\begin{bmatrix} x_1 \\\\ x_2 \\\\ x_3 \\end{bmatrix} +\n",
    "\\begin{bmatrix} 1 \\\\ 0 \\\\ 0 \\end{bmatrix}cos(t)$$"
   ]
  },
  {
   "cell_type": "code",
   "execution_count": null,
   "metadata": {
    "id": "FQKA_OXtqo37"
   },
   "outputs": [],
   "source": [
    "## Question 2.2"
   ]
  },
  {
   "cell_type": "markdown",
   "metadata": {
    "id": "tRY0rFbgO5lZ"
   },
   "source": [
    "Given:\n",
    "\n",
    "$$\\dot{X} = AX + BU$$\n",
    "where:\n",
    "$$A = \\begin{bmatrix} 0 & 0 & -1 \\\\ 0 & -1 & 1 \\\\ 1 & -1 & 0 \\end{bmatrix}, \\quad B = \\begin{bmatrix} 1 \\\\ 0 \\\\ 0 \\end{bmatrix}, \\quad U = \\begin{bmatrix} \\cos(t) \\\\ 0 \\\\ 0 \\end{bmatrix}$$\n",
    "\n",
    "### (1) Steady-State Assumptions\n",
    "Since $U(t) = \\begin{bmatrix} \\cos(t) \\\\ 0 \\\\ 0 \\end{bmatrix}$, we write it in complex exponential form using Euler's formula:\n",
    "$$U(t) = \\text{Re}\\left(\\begin{bmatrix} e^{j\\omega t} \\\\ 0 \\\\ 0 \\end{bmatrix}\\right)$$\n",
    "where $\\omega = 1$.\n",
    "\n",
    "Assume the steady-state solution is:\n",
    "$$X(t) = \\text{Re}\\left(\\begin{bmatrix} X_1 \\\\ X_2 \\\\ X_3 \\end{bmatrix} e^{j\\omega t}\\right)$$\n",
    "where $\\begin{bmatrix} X_1 \\\\ X_2 \\\\ X_3 \\end{bmatrix}$ are the phasors for the steady-state solution.\n",
    "\n",
    "### (2) Frequency-Domain Representation\n",
    "From the derivation, we have:\n",
    "$$(j\\omega I - A)\\begin{bmatrix} X_1 \\\\ X_2 \\\\ X_3 \\end{bmatrix} = B\\begin{bmatrix} 1 \\\\ 0 \\\\ 0 \\end{bmatrix}$$\n",
    "\n",
    "Substituting $\\omega = 1$, we get:\n",
    "$$(j I - A)\\begin{bmatrix} X_1 \\\\ X_2 \\\\ X_3 \\end{bmatrix} = \\begin{bmatrix} 1 \\\\ 0 \\\\ 0 \\end{bmatrix}$$\n",
    "\n",
    "### (3) Matrix Substitution\n",
    "$$j I - A = \\begin{bmatrix} j & 0 & 1 \\\\ 0 & j+1 & -1 \\\\ -1 & 1 & j \\end{bmatrix}$$\n",
    "\n",
    "Solving the linear system of equations:\n",
    "$$\\begin{bmatrix} j & 0 & 1 \\\\ 0 & j+1 & -1 \\\\ -1 & 1 & j \\end{bmatrix} \\begin{bmatrix} X_1 \\\\ X_2 \\\\ X_3 \\end{bmatrix} = \\begin{bmatrix} 1 \\\\ 0 \\\\ 0 \\end{bmatrix}$$\n",
    "\n",
    "### (4) Solve the Linear System\n",
    "\n",
    "1. From the first equation: $jX_1 + X_3 = 1$\n",
    "2. From the second equation: $(j+1)X_2 - X_3 = 0$\n",
    "3. From the third equation: $-X_1 + X_2 + jX_3 = 0$\n",
    "\n",
    "Solving this system, we get:\n",
    "$$X_1 = 1$$\n",
    "$$X_2 = \\frac{1 + j}{j+1}$$\n",
    "$$X_3 = 1 - j$$\n",
    "\n",
    "### (5) Convert to Time Domain\n",
    "The steady-state solution is the real part of $\\mathbf{X}e^{j\\omega t}$, where:\n",
    "\n",
    "$$\\mathbf{X} = \\begin{bmatrix} X_1 \\\\ X_2 \\\\ X_3 \\end{bmatrix} = \\begin{bmatrix} 1 \\\\ \\frac{1 + j}{j+1} \\\\ 1 - j \\end{bmatrix}$$\n",
    "\n",
    "#### $\\mathbf{X}_1(t)$:\n",
    "$$X_1(t) = \\text{Re}(X_1 e^{j\\omega t}) = \\text{Re}(1 \\cdot e^{j\\omega t}) = \\cos(\\omega t) = \\cos(t)$$\n",
    "\n",
    "#### $\\mathbf{X}_2(t)$:\n",
    "$$X_2(t) = \\text{Re}\\left(\\frac{1 + j}{j+1} e^{j\\omega t}\\right)$$\n",
    "Simplifying the fraction:\n",
    "$$\\frac{1 + j}{j+1} = \\frac{(1 + j)(j - 1)}{(j+1)(j - 1)} = \\frac{2j}{-2} = -j$$\n",
    "Therefore:\n",
    "$$X_2(t) = \\text{Re}(-j e^{j\\omega t}) = \\text{Re}(-j(\\cos(\\omega t) + j\\sin(\\omega t))) = \\text{Re}(-\\sin(\\omega t) - j\\cos(\\omega t)) = \\sin(t)$$\n",
    "\n",
    "#### $\\mathbf{X}_3(t)$:\n",
    "$$X_3(t) = \\text{Re}((1 - j)e^{j\\omega t}) = \\text{Re}((1 - j)(\\cos(\\omega t) + j\\sin(\\omega t)))$$\n",
    "Expanding:\n",
    "$$X_3(t) = \\text{Re}(\\cos(\\omega t) - j\\cos(\\omega t) + j\\sin(\\omega t) + \\sin(\\omega t)) = \\cos(t) + \\sin(t)$$\n",
    "\n",
    "Thus, the steady-state solutions are:\n",
    "$$I_1(t) = \\mathbf{X}_1(t) = \\cos(t)$$\n",
    "$$I_2(t) = \\mathbf{X}_2(t) = \\sin(t)$$\n",
    "$$V_1(t) = \\mathbf{X}_3(t) = \\cos(t) + \\sin(t)$$"
   ]
  },
  {
   "cell_type": "code",
   "execution_count": null,
   "metadata": {
    "id": "PnXhuBo5pSTL"
   },
   "outputs": [],
   "source": [
    "import numpy as np\n",
    "import matplotlib.pyplot as plt\n",
    "from scipy.integrate import solve_ivp\n",
    "\n",
    "# Define the system of differential equations\n",
    "def system(t, x):\n",
    "    # State variables: x1, x2, x3\n",
    "    x1, x2, x3 = x\n",
    "\n",
    "    # System matrix A\n",
    "    A = np.array([[0, 0, -1],\n",
    "                  [0, -1, 1],\n",
    "                  [1, -1, 0]])\n",
    "\n",
    "    # Input vector\n",
    "    u = np.array([np.cos(t), 0, 0])\n",
    "\n",
    "    # Compute the derivatives\n",
    "    dxdt = A @ np.array([x1, x2, x3]) + u\n",
    "    return dxdt\n",
    "\n",
    "# Initial conditions: x1(0), x2(0), x3(0)\n",
    "initial_conditions = [0, 0, 0]\n",
    "\n",
    "# Time span for the solution (e.g., from t=0 to t=10)\n",
    "t_span = (0, 20)\n",
    "\n",
    "# Solve the system using solve_ivp\n",
    "sol = solve_ivp(system, t_span, initial_conditions, t_eval=np.linspace(0, 20, 1000))\n",
    "\n",
    "# Steady-state solutions\n",
    "t = np.linspace(0, 20, 1000)\n",
    "I1_steady = np.cos(t)  # I1(t) = cos(t)\n",
    "I2_steady = np.sin(t)  # I2(t) = sin(t)\n",
    "V1_steady = np.cos(t) + np.sin(t)  # V1(t) = cos(t) + sin(t)\n",
    "\n",
    "# Plot the solutions\n",
    "plt.figure(figsize=(10, 6))\n",
    "\n",
    "# Numerical solutions\n",
    "plt.plot(sol.t, sol.y[0], label=r'$I_1(t)$ (Numerical)', color='r', linestyle='--', linewidth=2)\n",
    "plt.plot(sol.t, sol.y[1], label=r'$I_2(t)$ (Numerical)', color='b', linestyle='--', linewidth=2)\n",
    "plt.plot(sol.t, sol.y[2], label=r'$V_1(t)$ (Numerical)', color='g', linestyle='--', linewidth=2)\n",
    "\n",
    "# Steady-state solutions\n",
    "plt.plot(t, I1_steady, label=r'$I_1(t) = \\cos(t)$ (Steady-state)', color='r', linewidth=2)\n",
    "plt.plot(t, I2_steady, label=r'$I_2(t) = \\sin(t)$ (Steady-state)', color='b', linewidth=2)\n",
    "plt.plot(t, V1_steady, label=r'$V_1(t) = \\cos(t) + \\sin(t)$ (Steady-state)', color='g', linewidth=2)\n",
    "\n",
    "plt.title('Comparison of Numerical and Steady-State Solutions')\n",
    "plt.xlabel('Time $t$')\n",
    "plt.ylabel('Amplitude')\n",
    "plt.legend(loc=\"center left\", bbox_to_anchor=(1, 0.5), fontsize=12)\n",
    "plt.grid(True)\n",
    "plt.show()\n"
   ]
  },
  {
   "cell_type": "markdown",
   "metadata": {
    "id": "HP0tbSe-xak0"
   },
   "source": [
    "## **Comment**\n",
    "The transient state of the system converges to the steady-state solution after some time."
   ]
  }
 ],
 "metadata": {
  "colab": {
   "private_outputs": true,
   "provenance": []
  },
  "kernelspec": {
   "display_name": "Python 3 (ipykernel)",
   "language": "python",
   "name": "python3"
  },
  "language_info": {
   "codemirror_mode": {
    "name": "ipython",
    "version": 3
   },
   "file_extension": ".py",
   "mimetype": "text/x-python",
   "name": "python",
   "nbconvert_exporter": "python",
   "pygments_lexer": "ipython3",
   "version": "3.12.2"
  }
 },
 "nbformat": 4,
 "nbformat_minor": 4
}
